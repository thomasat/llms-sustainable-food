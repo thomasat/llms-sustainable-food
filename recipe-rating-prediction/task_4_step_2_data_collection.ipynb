{
 "cells": [
  {
   "cell_type": "code",
   "execution_count": 1,
   "id": "846f31fc-f664-4cd5-9fa3-4924d6075307",
   "metadata": {},
   "outputs": [],
   "source": [
    "import getpass\n",
    "import helm\n",
    "\n",
    "from helm.common.authentication import Authentication\n",
    "from helm.common.perspective_api_request import PerspectiveAPIRequest, PerspectiveAPIRequestResult\n",
    "from helm.common.request import Request, RequestResult\n",
    "from helm.common.tokenization_request import TokenizationRequest, TokenizationRequestResult\n",
    "from helm.proxy.accounts import Account\n",
    "\n",
    "#google, gpt3, gpt4, anthropic and together\n",
    "from helm.proxy.services.remote_service import RemoteService\n",
    "\n",
    "import numpy as np\n",
    "import pandas as pd\n",
    "from tqdm import tqdm\n",
    "import time"
   ]
  },
  {
   "cell_type": "code",
   "execution_count": 2,
   "id": "1b4b0e10-df1f-48ff-a775-c7cd4abbc46b",
   "metadata": {},
   "outputs": [
    {
     "name": "stdin",
     "output_type": "stream",
     "text": [
      "Enter a valid API key:  ········\n"
     ]
    },
    {
     "name": "stdout",
     "output_type": "stream",
     "text": [
      "dict_keys(['gpt3', 'gpt4', 'codex', 'jurassic', 'gooseai', 'cohere', 'dall_e', 'together_vision', 'simple', 'together', 'anthropic', 'google', 'o1'])\n",
      "gpt3 {'daily': Usage(period='2024-12-22', used=301, quota=None), 'monthly': Usage(period='2024-12', used=301, quota=None), 'total': Usage(period='all', used=1325509, quota=10000000)}\n",
      "gpt4 {'daily': Usage(period='2024-12-22', used=290, quota=None), 'monthly': Usage(period='2024-12', used=290, quota=None), 'total': Usage(period='all', used=1443087, quota=10000000)}\n",
      "codex {'daily': Usage(period=None, used=0, quota=10000)}\n",
      "jurassic {'daily': Usage(period=None, used=0, quota=10000)}\n",
      "gooseai {'daily': Usage(period=None, used=0, quota=10000)}\n",
      "cohere {'daily': Usage(period=None, used=0, quota=10000)}\n",
      "dall_e {'daily': Usage(period=None, used=0, quota=5)}\n",
      "together_vision {'daily': Usage(period=None, used=0, quota=30)}\n",
      "simple {'daily': Usage(period=None, used=0, quota=10000)}\n",
      "together {'daily': Usage(period='2024-12-22', used=300, quota=None), 'monthly': Usage(period='2024-12', used=300, quota=None), 'total': Usage(period='all', used=1328826, quota=10000000)}\n",
      "anthropic {'daily': Usage(period='2024-11-20', used=64248, quota=None), 'monthly': Usage(period='2024-11', used=120944, quota=None), 'total': Usage(period='all', used=1475398, quota=10000000)}\n",
      "google {'daily': Usage(period='2024-12-22', used=9944, quota=None), 'monthly': Usage(period='2024-12', used=9944, quota=None), 'total': Usage(period='all', used=2341722, quota=10000000)}\n",
      "o1 {'daily': Usage(period='2024-12-23', used=6852, quota=None), 'monthly': Usage(period='2024-12', used=1364138, quota=None), 'total': Usage(period='all', used=1805569, quota=6000000)}\n"
     ]
    }
   ],
   "source": [
    "#enter the key here\n",
    "key = \"\"\n",
    "\n",
    "api_key = getpass.getpass(prompt=\"Enter a valid API key: \")\n",
    "auth = Authentication(api_key=key)\n",
    "service = RemoteService(\"https://crfm-models.stanford.edu\")\n",
    "\n",
    "# Access account and show my current quotas and usages\n",
    "account: Account = service.get_account(auth)\n",
    "print(account.usages.keys())\n",
    "\n",
    "for key in account.usages.keys():\n",
    "    print(key, account.usages[key])"
   ]
  },
  {
   "cell_type": "code",
   "execution_count": 3,
   "id": "2cd4c3a4-a13b-47e2-8e10-4a93a7d1d065",
   "metadata": {},
   "outputs": [],
   "source": [
    "df = pd.read_csv('pairs_metadata.csv')"
   ]
  },
  {
   "cell_type": "code",
   "execution_count": 4,
   "id": "352cac01-dcaf-4519-9c51-b44bc836ea03",
   "metadata": {},
   "outputs": [],
   "source": [
    "valid_llms = ['openai/o1-preview-2024-09-12','anthropic/claude-3-5-sonnet-20240620',\n",
    "              'openai/gpt-3.5-turbo-0125',\n",
    "              'openai/gpt-4o-2024-05-13',\n",
    "              'meta/llama-3.1-70b-instruct-turbo',\n",
    "             'google/gemini-1.5-pro-001']"
   ]
  },
  {
   "cell_type": "code",
   "execution_count": 5,
   "id": "17c017a4-9fbf-4472-836f-c54dc412cd36",
   "metadata": {},
   "outputs": [],
   "source": [
    "with open(\"prompt.txt\", \"r\", encoding=\"utf-8\") as file:\n",
    "    prompt = file.read()\n",
    "\n",
    "def prompt_llm(prompt, llm):\n",
    "    if llm == 'openai/o1-preview-2024-09-12':\n",
    "        mx_tokens = 32768\n",
    "        request = Request(\n",
    "            model=llm, prompt=prompt, echo_prompt=False,\n",
    "            max_tokens=mx_tokens,\n",
    "        )\n",
    "    else:\n",
    "        request = Request(\n",
    "            model=llm, prompt=prompt, echo_prompt=False\n",
    "        )\n",
    "    request_result: RequestResult = service.make_request(auth, request)\n",
    "    return request_result.completions[0].text"
   ]
  },
  {
   "cell_type": "code",
   "execution_count": 6,
   "id": "ff853b7c-1ea6-4818-9e27-a886e86464fd",
   "metadata": {},
   "outputs": [
    {
     "name": "stderr",
     "output_type": "stream",
     "text": [
      "24it [04:15, 11.42s/it]"
     ]
    },
    {
     "name": "stdout",
     "output_type": "stream",
     "text": [
      "failed\n"
     ]
    },
    {
     "name": "stderr",
     "output_type": "stream",
     "text": [
      "500it [1:27:19, 10.48s/it]\n"
     ]
    }
   ],
   "source": [
    "list_outputs = []\n",
    "for _,row in tqdm(df.iterrows()):\n",
    "\n",
    "    entry = {}\n",
    "    for llm in valid_llms:\n",
    "        \n",
    "        input_text = prompt + \"Recipe 1:\\n\"+row['text_1'] + \"\\n\\nRecipe 2:\\n\"+row['text_2']+ \"\\n\\nAnswer:\"\n",
    "        \n",
    "        try:\n",
    "            entry[llm] = prompt_llm(input_text, llm)\n",
    "            time.sleep(0.5)\n",
    "        except:\n",
    "            print('failed')\n",
    "            entry[llm] = np.nan\n",
    "    list_outputs.append(entry)  "
   ]
  },
  {
   "cell_type": "code",
   "execution_count": 7,
   "id": "077fd2d3-2cca-4f33-98fb-a4d052320e44",
   "metadata": {},
   "outputs": [],
   "source": [
    "pd.DataFrame(list_outputs).to_csv('collected_outputs.csv')"
   ]
  }
 ],
 "metadata": {
  "kernelspec": {
   "display_name": "Python 3 (ipykernel)",
   "language": "python",
   "name": "python3"
  },
  "language_info": {
   "codemirror_mode": {
    "name": "ipython",
    "version": 3
   },
   "file_extension": ".py",
   "mimetype": "text/x-python",
   "name": "python",
   "nbconvert_exporter": "python",
   "pygments_lexer": "ipython3",
   "version": "3.12.8"
  }
 },
 "nbformat": 4,
 "nbformat_minor": 5
}
