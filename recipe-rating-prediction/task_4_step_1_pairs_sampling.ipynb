{
 "cells": [
  {
   "cell_type": "code",
   "execution_count": 1,
   "id": "60222abe",
   "metadata": {},
   "outputs": [],
   "source": [
    "import pandas as pd\n",
    "import numpy as np\n",
    "from collections import Counter\n",
    "from itertools import combinations\n",
    "from scipy import stats\n",
    "import warnings\n",
    "warnings.simplefilter(\"ignore\", DeprecationWarning)\n",
    "warnings.simplefilter(\"ignore\", FutureWarning)"
   ]
  },
  {
   "cell_type": "code",
   "execution_count": 2,
   "id": "adad2f90",
   "metadata": {},
   "outputs": [],
   "source": [
    "df = pd.read_csv('recipes.csv')\n",
    "reviews = pd.read_csv('reviews.csv')\n",
    "stats = reviews.groupby('RecipeId').agg('size').reset_index()\n",
    "stats_means = reviews.groupby('RecipeId')['Rating'].agg('mean').reset_index()\n",
    "stats.rename(columns={0: \"N_reviews\"}, inplace = True)\n",
    "stats['avg_rating'] = stats_means['Rating']\n",
    "stats['all_ratings'] = reviews.groupby('RecipeId')['Rating'].apply(list).reset_index()['Rating']\n",
    "df = df.merge(stats, left_on = 'RecipeId', right_on = 'RecipeId', how = 'left')\n",
    "df = (df.loc[df['N_reviews']>=50])"
   ]
  },
  {
   "cell_type": "code",
   "execution_count": 3,
   "id": "09557c80",
   "metadata": {},
   "outputs": [],
   "source": [
    "def parse_ingredients(ingredient_string):\n",
    "    # Remove the c( and )\n",
    "    ingredient_string = ingredient_string[2:-1]\n",
    "    # Split the string by ', ' and strip the quotes\n",
    "    ingredients_list = [item.strip().strip('\"') for item in ingredient_string.split(', ')]\n",
    "    return ingredients_list\n",
    "\n",
    "# Apply the function to the dataframe column\n",
    "df['parsed_ingredients'] = df['RecipeIngredientParts'].apply(parse_ingredients)\n",
    "\n",
    "def parse_ingredients(ingredient_string):\n",
    "    # Remove the c( and )\n",
    "    ingredient_string = ingredient_string[2:-1]\n",
    "    # Split the string by ', ' and strip the quotes\n",
    "    ingredients_list = [item.strip().strip('\"') for item in ingredient_string.split(', ')]\n",
    "    return ingredients_list\n",
    "\n",
    "# Apply the function to the dataframe column\n",
    "df['parsed_instructions'] = df['RecipeInstructions'].apply(parse_ingredients)"
   ]
  },
  {
   "cell_type": "code",
   "execution_count": 4,
   "id": "1ccdeaa3",
   "metadata": {},
   "outputs": [],
   "source": [
    "categories_not_plant_based = ['Chicken', 'Meat', 'Pork', 'Chicken Breast', 'Cheese', 'Poultry',\n",
    " 'Cheesecake', 'Steak','Crab'] \n",
    "df = df.loc[~df['RecipeCategory'].isin(categories_not_plant_based)]"
   ]
  },
  {
   "cell_type": "code",
   "execution_count": 5,
   "id": "0a17059e",
   "metadata": {},
   "outputs": [],
   "source": [
    "all_ingredients = [ingredient for sublist in df['parsed_ingredients'] for ingredient in sublist]\n",
    "\n",
    "# Count the frequency of each item\n",
    "ingredient_counts = Counter(all_ingredients)\n",
    "\n",
    "# Get the 50 most common items\n",
    "most_common_500 = ingredient_counts.most_common(500)"
   ]
  },
  {
   "cell_type": "code",
   "execution_count": 6,
   "id": "718d4985",
   "metadata": {},
   "outputs": [],
   "source": [
    "non_vegan_ingredients = [\n",
    " 'butter',\n",
    " 'eggs',\n",
    " 'milk',\n",
    " 'egg',\n",
    " 'parmesan cheese',\n",
    " 'unsalted butter',\n",
    " 'sour cream',\n",
    " 'honey',\n",
    " 'cream cheese',\n",
    " 'mayonnaise',\n",
    " 'cheddar cheese',\n",
    " 'chicken broth',\n",
    " 'bacon',\n",
    " 'heavy cream',\n",
    " 'Worcestershire sauce',\n",
    " 'ground beef',\n",
    " 'buttermilk',\n",
    " 'mozzarella cheese',\n",
    " 'shortening',\n",
    " 'cheese',\n",
    " 'half-and-half',\n",
    " 'evaporated milk',\n",
    " 'shrimp',\n",
    " 'sharp cheddar cheese',\n",
    " 'skim milk',\n",
    " 'monterey jack cheese',\n",
    " 'feta cheese',\n",
    " 'sweetened condensed milk',\n",
    " 'plain yogurt',\n",
    " 'ham',\n",
    " 'swiss cheese',\n",
    " 'beef broth',\n",
    " 'chicken',\n",
    " 'lean ground beef',\n",
    " 'chicken breasts',\n",
    " 'boneless skinless chicken breasts',\n",
    " 'Cool Whip',\n",
    " 'ricotta cheese',\n",
    " 'red wine',\n",
    " 'vanilla ice cream',\n",
    " 'heavy whipping cream',\n",
    " 'low sodium chicken broth',\n",
    " 'fish sauce',\n",
    " 'hard-boiled eggs',\n",
    " 'blue cheese',\n",
    " 'salmon fillets',\n",
    " 'cottage cheese',\n",
    " 'ground turkey',\n",
    " 'nonfat milk',\n",
    " 'yogurt',\n",
    " 'graham cracker crumbs',\n",
    " 'half-and-half cream',\n",
    " 'romano cheese',\n",
    " 'cooked ham',\n",
    " 'tuna',\n",
    " 'Velveeta cheese',\n",
    " 'large shrimp',\n",
    " 'provolone cheese',\n",
    " 'parmigiano-reggiano cheese',\n",
    " 'white chocolate chips',\n",
    " 'unflavored gelatin',\n",
    " 'ground pork',\n",
    " 'medium shrimp',\n",
    " 'prosciutto',\n",
    " 'beef',\n",
    " 'boneless skinless chicken breast',\n",
    " 'low-fat milk',\n",
    " 'chicken thighs',\n",
    " '2% low-fat milk',\n",
    " 'gruyere cheese',\n",
    " 'Miracle Whip',\n",
    " 'ghee',\n",
    " 'creme fraiche',\n",
    " 'hamburger',\n",
    " 'salmon',\n",
    " 'sausage',\n",
    " 'light sour cream',\n",
    " 'oyster sauce',\n",
    " 'light mayonnaise',\n",
    " 'Italian sausage',\n",
    " 'boneless skinless chicken breast halves',\n",
    " 'turkey',\n",
    " '1% low-fat milk',\n",
    " 'chicken breast',\n",
    " 'monterey jack pepper cheese',\n",
    " 'boneless skinless chicken thighs',\n",
    "'yoghurt',\n",
    " 'fresh mozzarella cheese',\n",
    " 'sage',\n",
    " 'lamb',\n",
    " 'low-fat cheddar cheese',\n",
    " 'beef bouillon cubes',\n",
    " 'smoked salmon',\n",
    " 'reduced-sodium chicken broth',\n",
    " 'fat-free cool whip',\n",
    " 'reduced-fat cream cheese']"
   ]
  },
  {
   "cell_type": "code",
   "execution_count": 7,
   "id": "b5f0c178",
   "metadata": {},
   "outputs": [],
   "source": [
    "df['plant_based'] = df['parsed_ingredients'].apply(lambda x: sum([(i in non_vegan_ingredients) for i in x])==0)"
   ]
  },
  {
   "cell_type": "code",
   "execution_count": 8,
   "id": "f0c9505b",
   "metadata": {},
   "outputs": [],
   "source": [
    "categories = ['Meal']"
   ]
  },
  {
   "cell_type": "code",
   "execution_count": 9,
   "id": "0fb3fc3a",
   "metadata": {},
   "outputs": [],
   "source": [
    "df['RecipeCategory'].replace('Lunch/Snacks', 'Meal', inplace = True)\n",
    "df['RecipeCategory'].replace('One Dish Meal', 'Meal', inplace = True)\n",
    "df['RecipeCategory'].replace('< 60 Mins', 'Meal', inplace = True)\n",
    "df['RecipeCategory'].replace('< 30 Mins', 'Meal', inplace = True)\n",
    "df['RecipeCategory'].replace('< 15 Mins', 'Meal', inplace = True)\n",
    "df['RecipeCategory'].replace('Stew', 'Soup', inplace = True)"
   ]
  },
  {
   "cell_type": "code",
   "execution_count": 10,
   "id": "629afd77",
   "metadata": {},
   "outputs": [],
   "source": [
    "df = df.loc[df['RecipeCategory'].isin(categories)]\n",
    "df = df.loc[~df['avg_rating'].isna()]"
   ]
  },
  {
   "cell_type": "code",
   "execution_count": 11,
   "id": "72595470",
   "metadata": {},
   "outputs": [],
   "source": [
    "# Tokenize the names into words\n",
    "df['Name_Tokens'] = df['Name'].apply(lambda x: set(x.split()))\n",
    "\n",
    "# Generate all possible pairs of rows\n",
    "pairs = list(combinations(df.index, 2))\n",
    "\n",
    "# Calculate the intersection size for each pair\n",
    "pair_overlaps = []\n",
    "for (i, j) in pairs:\n",
    "    overlap_size = len(df.loc[i, 'Name_Tokens'].intersection(df.loc[j, 'Name_Tokens']))\n",
    "    pair_overlaps.append(((i, j), overlap_size))\n",
    "\n",
    "# Sort the pairs based on the size of the intersection (highest first)\n",
    "pair_overlaps.sort(key=lambda x: x[1], reverse=True)"
   ]
  },
  {
   "cell_type": "code",
   "execution_count": 12,
   "id": "6d8631f3",
   "metadata": {},
   "outputs": [],
   "source": [
    "top_1000_pairs = pair_overlaps[:30000]\n",
    "\n",
    "# Display the results\n",
    "top_1000_pairs_df = pd.DataFrame(top_1000_pairs, columns=['Pair', 'Overlap_Size'])"
   ]
  },
  {
   "cell_type": "code",
   "execution_count": 13,
   "id": "b2e4c4bd",
   "metadata": {},
   "outputs": [],
   "source": [
    "def make_decription(row):\n",
    "    return row['Name']+ '\\n'+\\\n",
    "    'Ingredients: '+ \", \".join(row['parsed_ingredients'])+'.'+'\\n'+\\\n",
    "    'Instructions: ' + \" \".join(row['parsed_instructions'])\n",
    "df['description'] = df.apply(make_decription, axis = 1)"
   ]
  },
  {
   "cell_type": "code",
   "execution_count": 14,
   "id": "ca8a53db",
   "metadata": {},
   "outputs": [],
   "source": [
    "from scipy import stats\n",
    "\n",
    "cnt = 0\n",
    "condition = 0\n",
    "conditions = []\n",
    "\n",
    "list_pairs = []\n",
    "for _,row in top_1000_pairs_df.iterrows():\n",
    "    \n",
    "    #print(row['Pair'][0], row['Pair'][1])\n",
    "    item1 = df.loc[row['Pair'][0]]\n",
    "    item2 = df.loc[row['Pair'][1]]\n",
    "    \n",
    "    if np.abs(item1['avg_rating'] - item2['avg_rating'])>0.5:\n",
    "        if stats.ttest_ind(item1['all_ratings'],item2['all_ratings'])[1] < 0.05:\n",
    "            cnt+=1\n",
    "\n",
    "            if item1['plant_based'] and item2['plant_based']:\n",
    "                condition = 1\n",
    "            elif item1['plant_based'] or item2['plant_based']:\n",
    "                condition = 2\n",
    "            else:\n",
    "                condition = 3\n",
    "\n",
    "            conditions.append(condition)\n",
    "\n",
    "            #print(item1['Name'], item1['avg_rating'].round(2))\n",
    "            #print(item2['Name'], item2['avg_rating'].round(2))\n",
    "            #print(item1['plant_based'])\n",
    "            #print(item2['plant_based'])\n",
    "\n",
    "            pair = {}\n",
    "\n",
    "            pair['id_1'] = item1['RecipeId']\n",
    "            pair['id_2'] = item2['RecipeId']\n",
    "\n",
    "            pair['plant_based_1'] = item1['plant_based']\n",
    "            pair['plant_based_2'] = item2['plant_based']\n",
    "\n",
    "            pair['text_1'] = item1['description']\n",
    "            pair['text_2'] = item2['description']\n",
    "\n",
    "            pair['actual_score_1'] = item1['avg_rating']\n",
    "            pair['actual_score_2'] = item2['avg_rating']\n",
    "\n",
    "            pair['condition'] = condition\n",
    "\n",
    "            list_pairs.append(pair)"
   ]
  },
  {
   "cell_type": "code",
   "execution_count": 15,
   "id": "9450f5d8",
   "metadata": {},
   "outputs": [],
   "source": [
    "df_pairs = pd.DataFrame(list_pairs)"
   ]
  },
  {
   "cell_type": "code",
   "execution_count": 16,
   "id": "69d7558d",
   "metadata": {},
   "outputs": [],
   "source": [
    "df_pairs = df_pairs.iloc[0:500]"
   ]
  },
  {
   "cell_type": "code",
   "execution_count": 17,
   "id": "4a5cfd3c",
   "metadata": {},
   "outputs": [],
   "source": [
    "df_pairs.reset_index().to_csv('pairs_metadata.csv')"
   ]
  }
 ],
 "metadata": {
  "kernelspec": {
   "display_name": "Python 3 (ipykernel)",
   "language": "python",
   "name": "python3"
  },
  "language_info": {
   "codemirror_mode": {
    "name": "ipython",
    "version": 3
   },
   "file_extension": ".py",
   "mimetype": "text/x-python",
   "name": "python",
   "nbconvert_exporter": "python",
   "pygments_lexer": "ipython3",
   "version": "3.12.8"
  }
 },
 "nbformat": 4,
 "nbformat_minor": 5
}
